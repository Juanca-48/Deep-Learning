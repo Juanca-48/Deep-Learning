version https://git-lfs.github.com/spec/v1
oid sha256:a2ae9f95aae4172970d6180de78ad4542fd71bf15e8330f7fe03be5771fae7f1
size 146873
